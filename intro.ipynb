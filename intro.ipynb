{
 "cells": [
  {
   "cell_type": "code",
   "execution_count": 2,
   "metadata": {},
   "outputs": [
    {
     "name": "stdout",
     "output_type": "stream",
     "text": [
      "Datos: {'id': 2, 'age': 10, 'codes': ['a', 'b'], 'name': 'Bob2'}, Predicción de response: 404\n"
     ]
    }
   ],
   "source": [
    "import numpy as np\n",
    "from sklearn.model_selection import train_test_split\n",
    "from sklearn.feature_extraction import DictVectorizer\n",
    "from sklearn.linear_model import LogisticRegression\n",
    "\n",
    "# Datos proporcionados\n",
    "data = [\n",
    "  {\n",
    "    \"response\": 200,\n",
    "    \"body\": {\n",
    "      \"id\": 1,\n",
    "      \"age\": 18,\n",
    "      \"codes\": [\"a\", \"b\"],\n",
    "      \"name\": \"Bob\"\n",
    "    }\n",
    "  },\n",
    "  {\n",
    "    \"response\": 404,\n",
    "    \"body\": {\n",
    "      \"id\": 2,\n",
    "      \"age\": 10,\n",
    "      \"codes\": [\"a\", \"b\"],\n",
    "      \"name\": \"Bob2\"\n",
    "    }\n",
    "  },\n",
    "  {\n",
    "    \"response\": 404,\n",
    "    \"body\": {\n",
    "      \"id\": 3,\n",
    "      \"age\": 15,\n",
    "      \"codes\": [\"a\", \"b\", \"c\"],\n",
    "      \"name\": \"Bob3\"\n",
    "    }\n",
    "  },\n",
    "  {\n",
    "    \"response\": 404,\n",
    "    \"body\": {\n",
    "      \"id\": 4,\n",
    "      \"age\": 8,\n",
    "      \"codes\": [\"a\", \"b\"],\n",
    "      \"name\": \"Bob5\"\n",
    "    }\n",
    "  },\n",
    "  {\n",
    "    \"response\": 200,\n",
    "    \"body\": {\n",
    "      \"id\": 5,\n",
    "      \"age\": 25,\n",
    "      \"codes\": [\"a\", \"b\"],\n",
    "      \"name\": \"Bob5\"\n",
    "    }\n",
    "  },\n",
    "]\n",
    "\n",
    "# Extraer las características y etiquetas de los datos\n",
    "X = [d[\"body\"] for d in data]\n",
    "y = [d[\"response\"] == 200 for d in data]  # True si es 200, False si es 404\n",
    "\n",
    "# Dividir los datos en conjuntos de entrenamiento y prueba\n",
    "X_train, X_test, y_train, y_test = train_test_split(X, y, test_size=0.2, random_state=42)\n",
    "\n",
    "# Vectorizar las características utilizando DictVectorizer\n",
    "vectorizer = DictVectorizer()\n",
    "X_train_vec = vectorizer.fit_transform(X_train)\n",
    "X_test_vec = vectorizer.transform(X_test)\n",
    "\n",
    "# Entrenar un modelo de clasificación (por ejemplo, Regresión Logística)\n",
    "model = LogisticRegression()\n",
    "model.fit(X_train_vec, y_train)\n",
    "\n",
    "# Realizar predicciones para los datos de prueba\n",
    "y_pred = model.predict(X_test_vec)\n",
    "\n",
    "# Imprimir los resultados de las predicciones\n",
    "for i, prediction in enumerate(y_pred):\n",
    "    data_point = X_test[i]\n",
    "    response = \"200\" if prediction else \"404\"\n",
    "    print(f\"Datos: {data_point}, Predicción de response: {response}\")\n"
   ]
  },
  {
   "cell_type": "code",
   "execution_count": 3,
   "metadata": {},
   "outputs": [
    {
     "name": "stdout",
     "output_type": "stream",
     "text": [
      "El nuevo dato tiene response: 404\n"
     ]
    }
   ],
   "source": [
    "nuevo_dato = {\n",
    "    \"id\": 3,\n",
    "    \"age\": 5,\n",
    "    \"codes\": [\"a\", \"b\"],\n",
    "    \"name\": \"Bob5\"\n",
    "}\n",
    "\n",
    "# Vectorizar el nuevo dato\n",
    "nuevo_X = [nuevo_dato]\n",
    "nuevo_X_vec = vectorizer.transform(nuevo_X)\n",
    "\n",
    "# Hacer la predicción en el nuevo dato\n",
    "nueva_prediccion = model.predict(nuevo_X_vec)\n",
    "\n",
    "# Obtener el resultado predicho\n",
    "response_predicho = \"200\" if nueva_prediccion[0] else \"404\"\n",
    "\n",
    "print(f\"El nuevo dato tiene response: {response_predicho}\")"
   ]
  },
  {
   "cell_type": "code",
   "execution_count": 4,
   "metadata": {},
   "outputs": [
    {
     "name": "stdout",
     "output_type": "stream",
     "text": [
      "Coeficiente para la característica 'age': 0.6369128409625963\n",
      "Coeficiente para la característica 'codes=a': 6.332746750872895e-06\n",
      "Coeficiente para la característica 'codes=b': 6.332746750872895e-06\n",
      "Coeficiente para la característica 'codes=c': -0.17947651420532512\n",
      "Coeficiente para la característica 'id': -0.32562929608514346\n",
      "Coeficiente para la característica 'name=Bob': 0.1718102816416867\n",
      "Coeficiente para la característica 'name=Bob3': -0.17947651420532512\n",
      "Coeficiente para la característica 'name=Bob5': 0.007672565310389262\n"
     ]
    }
   ],
   "source": [
    "coeficientes = model.coef_\n",
    "nombres_caracteristicas = vectorizer.get_feature_names_out()\n",
    "\n",
    "# Imprimir los coeficientes y sus correspondientes características\n",
    "for i, coef in enumerate(coeficientes[0]):\n",
    "    print(f\"Coeficiente para la característica '{nombres_caracteristicas[i]}': {coef}\")"
   ]
  },
  {
   "cell_type": "code",
   "execution_count": null,
   "metadata": {},
   "outputs": [],
   "source": []
  }
 ],
 "metadata": {
  "kernelspec": {
   "display_name": "Python 3",
   "language": "python",
   "name": "python3"
  },
  "language_info": {
   "codemirror_mode": {
    "name": "ipython",
    "version": 3
   },
   "file_extension": ".py",
   "mimetype": "text/x-python",
   "name": "python",
   "nbconvert_exporter": "python",
   "pygments_lexer": "ipython3",
   "version": "3.11.3"
  },
  "orig_nbformat": 4
 },
 "nbformat": 4,
 "nbformat_minor": 2
}
